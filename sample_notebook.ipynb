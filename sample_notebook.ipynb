{
 "cells": [
  {
   "cell_type": "markdown",
   "id": "7dedaacb",
   "metadata": {},
   "source": [
    "# EdgeTier Data Analyst Task Sample Import\n",
    "\n",
    "If you wish to do this task in python (rather than postgres), the sample code below will allow you to connect and read the data from our sample database.\n",
    "\n",
    "In order to run this you will need to set up a `.env` file in the same directory as this notebook with the following information\n",
    "\n",
    "\n",
    "```\n",
    "DATABASE_HOST=\"<HOST NAME PROVIDED>\"\n",
    "DATABASE_USER=\"<USERNAME_PROVIDED>\"\n",
    "DATABASE_PASSWORD=\"<PASSWORD_PROVIDED>\"\n",
    "```\n",
    "\n",
    "Once set up the `get_data_with_query` function below will allow you to pass an SQL query to the database and return a pandas dataframe."
   ]
  },
  {
   "cell_type": "code",
   "execution_count": 1,
   "id": "6194f3ec",
   "metadata": {},
   "outputs": [],
   "source": [
    "#!pip3 install pandas\n",
    "#!pip3 install python-dotenv\n",
    "#!pip3 install sqlalchemy"
   ]
  },
  {
   "cell_type": "code",
   "execution_count": 1,
   "id": "50b5206d",
   "metadata": {},
   "outputs": [
    {
     "data": {
      "text/plain": [
       "True"
      ]
     },
     "execution_count": 1,
     "metadata": {},
     "output_type": "execute_result"
    }
   ],
   "source": [
    "import os\n",
    "import pandas as pd\n",
    "from sqlalchemy import create_engine\n",
    "from dotenv import load_dotenv\n",
    "\n",
    "load_dotenv()"
   ]
  },
  {
   "cell_type": "markdown",
   "id": "2d7f8169",
   "metadata": {},
   "source": [
    "# Functions "
   ]
  },
  {
   "cell_type": "code",
   "execution_count": 3,
   "id": "1edef8af",
   "metadata": {},
   "outputs": [],
   "source": [
    "def get_data_with_query(query: str) -> pd.DataFrame:\n",
    "    \"\"\"\n",
    "    Queries the sample database using the SQL query provided to the function\n",
    "    \"\"\"\n",
    "    \n",
    "    db_connection_string = f\"postgresql://{os.getenv('DATABASE_USER')}:{os.getenv('DATABASE_PASSWORD')}@{os.getenv('DATABASE_HOST')}:5432/postgres\"\n",
    "    engine = create_engine(db_connection_string)\n",
    "    data = pd.read_sql_query(query, con=engine)\n",
    "    \n",
    "    return data"
   ]
  },
  {
   "cell_type": "markdown",
   "id": "36e4f226",
   "metadata": {},
   "source": [
    "# Main"
   ]
  },
  {
   "cell_type": "code",
   "execution_count": null,
   "id": "68cd9b28",
   "metadata": {},
   "outputs": [],
   "source": [
    "sample_interactions = get_data_with_query(\"select * from interactions limit 100\")"
   ]
  }
 ],
 "metadata": {
  "kernelspec": {
   "display_name": "Python 3 (ipykernel)",
   "language": "python",
   "name": "python3"
  },
  "language_info": {
   "codemirror_mode": {
    "name": "ipython",
    "version": 3
   },
   "file_extension": ".py",
   "mimetype": "text/x-python",
   "name": "python",
   "nbconvert_exporter": "python",
   "pygments_lexer": "ipython3",
   "version": "3.9.8"
  },
  "toc": {
   "base_numbering": 1,
   "nav_menu": {},
   "number_sections": true,
   "sideBar": true,
   "skip_h1_title": false,
   "title_cell": "Table of Contents",
   "title_sidebar": "Contents",
   "toc_cell": false,
   "toc_position": {},
   "toc_section_display": true,
   "toc_window_display": false
  }
 },
 "nbformat": 4,
 "nbformat_minor": 5
}
